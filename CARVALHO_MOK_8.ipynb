{
 "cells": [
  {
   "attachments": {},
   "cell_type": "markdown",
   "id": "f2f7bd1e",
   "metadata": {},
   "source": [
    "# <font color='289C4E'>Projet 8: Propriétés spatiales des tables de hachage universelles\n",
    "**Élèves**: Yong MOK & Gabriel PEREIRA DE CARVALHO"
   ]
  },
  {
   "attachments": {},
   "cell_type": "markdown",
   "id": "9232ddda",
   "metadata": {},
   "source": [
    "## <font color='289C4E'>Table de matières<font><a class='anchor' id='top'></a>\n",
    "- [Python Imports](#imports)\n",
    "- [Partie 1 - Table de hachage: présentation](#Partie1)\n",
    "    - [Question S1](#S1)\n",
    "    - [Question S2](#S2)\n",
    "    - [Question S3](#S3)\n",
    "- [Partie 2 - Hypothèse de hachage uniforme simple](#Partie2)\n",
    "    - [Question T1](#T1)\n",
    "    - [Question S4](#S4)\n",
    "    - [Question T2](#T2)\n",
    "    - [Question T3](#T3)\n",
    "    - [Question T4](#T4)\n",
    "- [Partie 3 - Méthode de hachage universel](#Partie3)\n",
    "    - [Question T5](#T5)\n",
    "    - [Question T6](#T6)\n",
    "    - [Question T8](#T8)\n",
    "    - [Question S5](#S5)\n",
    "    - [Question T9](#T9)\n",
    "    - [Question T10](#T10)\n",
    "    - [Question S6](#S6)\n",
    "- [Partie 4 - Méthode de hachage parfait](#Partie4)\n",
    "    - [Question S7](#S7)\n",
    "    - [Question T11](#T11)\n",
    "    - [Question T12](#T12)\n",
    "    - [Question S8](#S8)"
   ]
  },
  {
   "attachments": {},
   "cell_type": "markdown",
   "id": "921b6bcf",
   "metadata": {},
   "source": [
    "<h2 align=\"center\"> <font color='gray'>Python Imports</font></h2> <a class=\"anchor\" id=\"imports\"></a>"
   ]
  },
  {
   "attachments": {},
   "cell_type": "markdown",
   "id": "b1db50cb",
   "metadata": {},
   "source": [
    "Dans cette section, on va importer tous les paquets qu'on ira utiliser plus tard."
   ]
  },
  {
   "cell_type": "code",
   "execution_count": 384,
   "id": "77740a74",
   "metadata": {},
   "outputs": [],
   "source": [
    "import math\n",
    "import numpy as np\n",
    "import matplotlib.pyplot as plt\n",
    "import numpy.random as npr\n",
    "import scipy.stats as sps"
   ]
  },
  {
   "attachments": {},
   "cell_type": "markdown",
   "id": "fca15f7c",
   "metadata": {},
   "source": [
    "<h2 align=\"center\"> <font color='gray'>Partie 1 - Table de hachage: présentation</font></h2><a class=\"anchor\" id=\"Partie1\"></a>"
   ]
  },
  {
   "attachments": {},
   "cell_type": "markdown",
   "id": "29814acf",
   "metadata": {},
   "source": [
    "<h3 align=\"center\"> <font color='blue'>Question S1</font></h3> <a class=\"anchor\" id=\"S1\"></a>"
   ]
  },
  {
   "attachments": {},
   "cell_type": "markdown",
   "id": "3feab9bd",
   "metadata": {},
   "source": [
    "<div class=\"alert alert-block alert-info\">\n",
    "Écrire un programme qui, étant donné une table de hachage, une fonction de hachage et une donnée, modifie la table en insérant la donnée dans la bonne alvéole. Vous pouvez supposer que les données sont de type <b>Int</b>.\n",
    "\n",
    "Appliquer votre programme pour insérer la donnée 7 via la fonction de hachage $h(n) = \\lfloor\\frac{n}{4}\\rfloor$ (où $\\lfloor x \\rfloor$ est la partie entière de x) dans la table de hachage suivante (et afficher la table ainsi obtenue)\n",
    "</div>"
   ]
  },
  {
   "attachments": {},
   "cell_type": "markdown",
   "id": "9a0e27a0",
   "metadata": {},
   "source": [
    "Pour ajouter une donnée $d$ dans la table de hachage $t$, on va:\n",
    "1. calculer l'alvéole $h(d)$ où on va ajouter la donnée $d$.\n",
    "2. ajouter $d$ dans l'alvéole $t[h(d)]$"
   ]
  },
  {
   "cell_type": "code",
   "execution_count": 385,
   "id": "88ac036a",
   "metadata": {},
   "outputs": [],
   "source": [
    "def ajouterDonnee(tableHachage,\n",
    "                  fonctionHachage,\n",
    "                  donnee):\n",
    "    alveole = fonctionHachage(donnee)\n",
    "    tableHachage[alveole].append(donnee)"
   ]
  },
  {
   "attachments": {},
   "cell_type": "markdown",
   "id": "9ae71074",
   "metadata": {},
   "source": [
    "Dans l'exemple, on note que $h(7) = 1$. Donc, la donnée $7$ doit être ajouté à l'alvéole $t[1]$."
   ]
  },
  {
   "cell_type": "code",
   "execution_count": 386,
   "id": "c74dbbc0",
   "metadata": {},
   "outputs": [
    {
     "name": "stdout",
     "output_type": "stream",
     "text": [
      "[[1, 3, 2, 0], [6, 7], [], [], [17, 18]]\n"
     ]
    }
   ],
   "source": [
    "t = [[1,3,2,0],\n",
    "     [6],\n",
    "     [],\n",
    "     [],\n",
    "     [17,18]]\n",
    "\n",
    "h = lambda d : math.floor(d/4)\n",
    "\n",
    "ajouterDonnee(t, h, 7)\n",
    "print(t)#on note que 7 est dans la bonne position"
   ]
  },
  {
   "attachments": {},
   "cell_type": "markdown",
   "id": "8a575db9",
   "metadata": {},
   "source": [
    "<h3 align=\"center\"> <font color='blue'>Question S2</font></h3> <a class=\"anchor\" id=\"S2\"></a>"
   ]
  },
  {
   "attachments": {},
   "cell_type": "markdown",
   "id": "8ab96934",
   "metadata": {},
   "source": [
    "<div class=\"alert alert-block alert-info\">\n",
    "Écrire un programme qui, étant donné une table de hachage (implémentée comme expliqué plus haut), une fonction de hachage et une donnée, teste si la donnée est présente dans la table. Vous pouvez supposer que les données sont de type <b>Int</b>. Vérifier votre programme en testant successivement la présence des données 7, 15 et 18 dans la table obtenue à la fin de S1.  \n",
    "</div>"
   ]
  },
  {
   "attachments": {},
   "cell_type": "markdown",
   "id": "4d287aa7",
   "metadata": {},
   "source": [
    "Pour chercher une donnée $d$ dans la table de hachage $t$, on va:\n",
    "1. calculer l'alvéole $h(d)$ où chercher la donnée $d$.\n",
    "2. utiliser la fonction *list.index()* pour trouver la donnée $d$ si elle est présente.\n",
    "3. si la donnée a été trouvé, on retorne **True**, sinon on retorne **False**."
   ]
  },
  {
   "cell_type": "code",
   "execution_count": 387,
   "id": "96006a89",
   "metadata": {},
   "outputs": [],
   "source": [
    "def chercherDonnee(tableHachage,\n",
    "                   fonctionHachage,\n",
    "                   donnee):\n",
    "    alveole = fonctionHachage(donnee)\n",
    "    try:\n",
    "        cherche = tableHachage[alveole].index(donnee)\n",
    "        return True\n",
    "    except:\n",
    "        return False"
   ]
  },
  {
   "attachments": {},
   "cell_type": "markdown",
   "id": "ba945ce0",
   "metadata": {},
   "source": [
    "Dans l'exemple, on note que $7$ et $18$ sont présentes dans la table de hachage, mais $15$ ne l'est pas."
   ]
  },
  {
   "cell_type": "code",
   "execution_count": 388,
   "id": "dccb4453",
   "metadata": {},
   "outputs": [
    {
     "data": {
      "text/plain": [
       "True"
      ]
     },
     "execution_count": 388,
     "metadata": {},
     "output_type": "execute_result"
    }
   ],
   "source": [
    "chercherDonnee(t, h, 7)"
   ]
  },
  {
   "cell_type": "code",
   "execution_count": 389,
   "id": "ddb82b35",
   "metadata": {},
   "outputs": [
    {
     "data": {
      "text/plain": [
       "False"
      ]
     },
     "execution_count": 389,
     "metadata": {},
     "output_type": "execute_result"
    }
   ],
   "source": [
    "chercherDonnee(t, h, 15)"
   ]
  },
  {
   "cell_type": "code",
   "execution_count": 390,
   "id": "5250a89d",
   "metadata": {},
   "outputs": [
    {
     "data": {
      "text/plain": [
       "True"
      ]
     },
     "execution_count": 390,
     "metadata": {},
     "output_type": "execute_result"
    }
   ],
   "source": [
    "chercherDonnee(t, h, 18)"
   ]
  },
  {
   "attachments": {},
   "cell_type": "markdown",
   "id": "36c6c45f",
   "metadata": {},
   "source": [
    "<h3 align=\"center\"> <font color='blue'>Question S3</font></h3> <a class=\"anchor\" id=\"S3\"></a>"
   ]
  },
  {
   "attachments": {},
   "cell_type": "markdown",
   "id": "c40c4904",
   "metadata": {},
   "source": [
    "<div class=\"alert alert-block alert-info\">\n",
    "\n",
    "Écrire un programme qui, étant donné une <i>List</i> d’entiers compris entre $0$ et $19$, construit la table de hachage à $5$ alvéoles associée à la fonction de hachage $h(n) = \\lfloor\\frac{n}{4}\\rfloor$, telle que chaque donnée ne soit présente qu’une fois dans la table (même si la donnée est présente en double dans la <i>List</i>). Il ne sera pas nécessaire de vérifier que les entiers de la List sont compris entre $0$ et $19$.\n",
    "Utiliser votre programme pour constuire la table (que vous afficherez) otenue par insertion successives des données suivante (dans cet ordre) : $5$, $1$, $7$, $6$, $5$, $9$, $15$, $0$, $18$.\n",
    "\n",
    "</div>"
   ]
  },
  {
   "attachments": {},
   "cell_type": "markdown",
   "id": "4eac73fa",
   "metadata": {},
   "source": [
    "Pour construir la table de hachage, on va:\n",
    "1. initialiser une table vide avec $5$ alvéoles\n",
    "2. pour chaque donnée, vérifier si elle est présente dans la table de hachage\n",
    "3. si la donnée n'est pas présente, on l'ajoute"
   ]
  },
  {
   "cell_type": "code",
   "execution_count": 391,
   "id": "cfd38d1c",
   "metadata": {},
   "outputs": [],
   "source": [
    "def construirTableHachage(donnees,\n",
    "                          fonctionHachage,\n",
    "                          nombreAlveoles):\n",
    "    tableHachage = [[] for i in range(nombreAlveoles)]\n",
    "    for donnee in donnees:\n",
    "        if chercherDonnee(tableHachage, fonctionHachage, donnee) == False:\n",
    "            ajouterDonnee(tableHachage, fonctionHachage, donnee)\n",
    "    return tableHachage"
   ]
  },
  {
   "attachments": {},
   "cell_type": "markdown",
   "id": "73eedbad",
   "metadata": {},
   "source": [
    "Dans l'exemple, on note que:\n",
    "\n",
    "- $h(1) = h(0) = 0$\n",
    "- $h(5) = h(7) = h(6) = 1$\n",
    "- $h(9) = 2$\n",
    "- $h(15) = 3$\n",
    "- $h(18) = 4$\n",
    "\n",
    "Donc, à la fin on doit trouver la table\n",
    "\n",
    "$\\begin{align}\n",
    "t = [&[1,0],\\\\\n",
    "    &[5,7,6],\\\\\n",
    "    &[9],\\\\\n",
    "    &[15],\\\\\n",
    "    &[18]]\n",
    "\\end{align}$\n",
    "\n"
   ]
  },
  {
   "cell_type": "code",
   "execution_count": 392,
   "id": "c8cf8362",
   "metadata": {},
   "outputs": [
    {
     "data": {
      "text/plain": [
       "[[1, 0], [5, 7, 6], [9], [15], [18]]"
      ]
     },
     "execution_count": 392,
     "metadata": {},
     "output_type": "execute_result"
    }
   ],
   "source": [
    "nombreAlveoles = 5\n",
    "donnees = [5,1,7,6,5,9,15,0,18]\n",
    "construirTableHachage(donnees, h, nombreAlveoles)#comme attendu"
   ]
  },
  {
   "attachments": {},
   "cell_type": "markdown",
   "id": "48a175a3",
   "metadata": {},
   "source": [
    "<h2 align=\"center\"> <font color='gray'>Partie 2 - Hypothèse de hachage uniforme simple</font></h2><a class=\"anchor\" id=\"Partie2\"></a>"
   ]
  },
  {
   "attachments": {},
   "cell_type": "markdown",
   "id": "0ed3ed87",
   "metadata": {},
   "source": [
    "<h3 align=\"center\"> <font color='blue'>Question T1</font></h3> <a class=\"anchor\" id=\"T1\"></a>"
   ]
  },
  {
   "attachments": {},
   "cell_type": "markdown",
   "id": "082ea89a",
   "metadata": {},
   "source": [
    "<div class=\"alert alert-block alert-info\">\n",
    "\n",
    "Supposons que $D_0,...,D_{n−1}$ sont i.i.d. de loi $\\mathcal{U}([0, 1[)$, et $h:d \\in [0, 1[ \\to \\lfloor dm \\rfloor$. Montrer que l’hypothèse de hachage uniforme simple (HHUS) est vérifiée.\n",
    "\n",
    "</div>"
   ]
  },
  {
   "attachments": {},
   "cell_type": "markdown",
   "id": "0e23719d",
   "metadata": {},
   "source": [
    "On note que $$\\forall j \\in [\\![0,m]\\!] \\quad h(d) = j \\iff dm - 1 < j \\leq dm.$$\n",
    "\n",
    "Donc, on a la condition suivante $$\\frac{j}{m} \\leq d < \\frac{j+1}{m}.$$\n",
    "\n",
    "Alors, $$\\mathbb{P}(h(D_i) = j) = \\mathbb{P}\\left(\\frac{j}{m} \\leq D_i < \\frac{j+1}{m}\\right) = \\frac{1}{m}.$$\n",
    "\n",
    "On conclue que $h(D_i) \\sim \\mathcal{U}([\\![0,m]\\!])$. On note que les $h(D_i)$ sont indépendantes car les $D_i$ sont indépendantes.\n",
    "\n",
    "On note encore que $$\\forall i\\not =j \\quad \\mathbb{P}(D_i \\not= D_j) = 1$$ car la mesure de Lebesgue ne charge pas les points."
   ]
  },
  {
   "attachments": {},
   "cell_type": "markdown",
   "id": "41e5575d",
   "metadata": {},
   "source": [
    "<h3 align=\"center\"> <font color='blue'>Question S4</font></h3> <a class=\"anchor\" id=\"S4\"></a>"
   ]
  },
  {
   "attachments": {},
   "cell_type": "markdown",
   "id": "c94f6129",
   "metadata": {},
   "source": [
    "<div class=\"alert alert-block alert-info\">\n",
    "La table de hachage obtenue à <b>T1</b> est aléatoire (car les données sont des v.a.).\n",
    "\n",
    "Écrire un programme qui simule cette table de hachage aléatoire avec $m = 5$ alvéoles en y insérant $n = 1000$ données i.i.d. de loi $\\mathcal{U}([0, 1[)$. Utiliser votre programme pour simuler une telle table, puis afficher la taille de ses alvéoles à l’aide d’un histogramme.\n",
    "</div>"
   ]
  },
  {
   "attachments": {},
   "cell_type": "markdown",
   "id": "3beb7789",
   "metadata": {},
   "source": [
    "Pour simuler la table de hachage aléatoire proposée, on va:\n",
    "1. Simuler les réalisations $D_0,...,D_n-1$\n",
    "2. Construir la table de hachage avec la fonction de [S3](#S3)\n",
    "\n",
    "**Remarque:** Pour simuler les réalisation de la loi uniforme $\\mathcal{U}([0,1[)$ on utilisera la fonction *rand()* du paquet *numpy.random*."
   ]
  },
  {
   "cell_type": "code",
   "execution_count": 393,
   "id": "1c73634f",
   "metadata": {},
   "outputs": [],
   "source": [
    "nombreRealisations = 1000\n",
    "nombreAlveoles = 5\n",
    "\n",
    "donnees = npr.rand(nombreRealisations)\n",
    "\n",
    "h = lambda d : math.floor(d*nombreAlveoles)\n",
    "\n",
    "tableHachage = construirTableHachage(donnees, h, nombreAlveoles)\n",
    "\n",
    "tailleAlveoles = [len(tableHachage[i]) for i in range(nombreAlveoles)]"
   ]
  },
  {
   "attachments": {},
   "cell_type": "markdown",
   "id": "ced985ab",
   "metadata": {},
   "source": [
    "Pour construir un histogramme, on va utiliser le paquet *matplotlib.pyplot*. On note que ce qu'on attend c'est que tout les alvéoles aient la même taille une fois que la fonction de hachage suit une loi uniforme $\\mathcal{U}([\\![0,m]\\!])$."
   ]
  },
  {
   "cell_type": "code",
   "execution_count": 394,
   "id": "64ca8e90",
   "metadata": {},
   "outputs": [
    {
     "data": {
      "text/plain": [
       "<matplotlib.legend.Legend at 0x7f281a8d55b0>"
      ]
     },
     "execution_count": 394,
     "metadata": {},
     "output_type": "execute_result"
    },
    {
     "data": {
      "image/png": "[encoded data removed]",
      "text/plain": [
       "<Figure size 1008x432 with 1 Axes>"
      ]
     },
     "metadata": {
      "needs_background": "light"
     },
     "output_type": "display_data"
    }
   ],
   "source": [
    "x = range(nombreAlveoles)#répresente chaque alvéole(axe x)\n",
    "y = tailleAlveoles#répresente la taille de chaque alvéole(axe y)\n",
    "\n",
    "plt.figure(figsize=(14,6))\n",
    "plt.bar(x, y, color='blue', label = 'Taille des alvéoles')\n",
    "plt.xlabel(\"Alvéoles\")\n",
    "plt.ylabel(\"Taille\")\n",
    "plt.legend()"
   ]
  },
  {
   "attachments": {},
   "cell_type": "markdown",
   "id": "66802ba5",
   "metadata": {},
   "source": [
    "<h3 align=\"center\"> <font color='blue'>Question T2</font></h3> <a class=\"anchor\" id=\"T2\"></a>"
   ]
  },
  {
   "attachments": {},
   "cell_type": "markdown",
   "id": "bd4982bd",
   "metadata": {},
   "source": [
    "<div class=\"alert alert-block alert-info\">\n",
    "Supposons que l’<i>HHUS</i> est vérifiée. \n",
    "\n",
    "Pour $0 \\leq i, j \\leq n − 1$, donner la probabilité que les données $D_i$ et $D_j$ soient hachées dans la même alvéole.\n",
    "    \n",
    "Donner la loi de $N_j(0 \\leq j \\leq m − 1)$.\n",
    "</div>"
   ]
  },
  {
   "attachments": {},
   "cell_type": "markdown",
   "id": "d8dfd648",
   "metadata": {},
   "source": [
    "Les données $D_i$ et $D_j$ sont hachées dans la même alvéole $\\iff h(D_i) = h(D_j)$. Donc, on veut calculer $\\mathbb{P}(h(D_i) = h(D_j))$.\n",
    "\n",
    "$$\\begin{align}\n",
    "\\mathbb{P}(h(D_i) = h(D_j)) &= \\sum_{k=0}^{m-1} \\mathbb{P}(h(D_i) = h(D_j)|h(D_j) = k)\\cdot\\mathbb{P}(h(D_j) = k)\\\\\n",
    "&= \\sum_{k=0}^{m-1} \\mathbb{P}(h(D_i) = k)\\cdot\\mathbb{P}(h(D_j) = k) \\quad \\text{car $D_i$ et $D_j$ sont indépendantes.}\\\\\n",
    "&= \\sum_{k=0}^{m-1} \\frac{1}{m^2}\\\\\n",
    "&= \\frac{1}{m}\n",
    "\\end{align}$$\n",
    "\n",
    "On remarque que $\\mathfrak{1}_{\\{h(D_i) = j\\}} \\sim \\mathcal{B} \\left(\\frac{1}{m}\\right)$ une loi de Bernoulli.\n",
    "\n",
    "On remarque que $\\forall 0 \\leq j \\leq m - 1$, $N_j = \\sum_{i=0}^{n-1} \\mathfrak{1}_{\\{h(D_i) = j\\}}$ parce que $\\forall 0 \\leq i \\leq n-1$ l'indicatrice vaut $1$ si $D_i$ est dans l'alveole $j$ et vaut $0$ s'il n'est pas. Donc on compte exactement le nombre de données présents.\n",
    "\n",
    "Donc,\n",
    "\n",
    "$$\n",
    "N_j = \\sum_{i=0}^{n-1} \\mathfrak{1}_{\\{h(D_i) = j\\}} \\sim \\mathcal{B} \\left(n, \\frac{1}{m}\\right) \\text{une loi binomiale.}\n",
    "$$"
   ]
  },
  {
   "attachments": {},
   "cell_type": "markdown",
   "id": "7152f315",
   "metadata": {},
   "source": [
    "<h3 align=\"center\"> <font color='blue'>Question T3</font></h3> <a class=\"anchor\" id=\"T3\"></a>"
   ]
  },
  {
   "attachments": {},
   "cell_type": "markdown",
   "id": "56e39e07",
   "metadata": {},
   "source": [
    "<div class=\"alert alert-block alert-info\">\n",
    "\n",
    "Supposons que l'<i>HHUS</i> est vérifiée. Soit $D$ une v.a. sur $\\mathcal{D}$ qui est presque sûrement différente de toutes les $D_i (0 \\leq i \\leq n-1)$. Quelle est l'espérance du nombre de comparaisons de données qui devront être faîtes par l'algorithme de <b>S2</b> qui teste si $D$ est présente dans la table $H$ ?\n",
    "\n",
    "</div>"
   ]
  },
  {
   "attachments": {},
   "cell_type": "markdown",
   "id": "e31efdcb",
   "metadata": {},
   "source": [
    "Soit $C_D$ le nombre de comparaisons de données qu'on veut calculer. On sait que $C_D = N_{h(D)}$ car $D$ n'est pas dans la table presque sûrement.\n",
    "\n",
    "Donc,\n",
    "\n",
    "$$ \\mathbb{E}(C_D) = \\mathbb{E}(N_{h(D)}) = \\frac{n}{m}$$\n",
    "\n",
    "On conclue $\\mathbb{E}(C_D) = \\alpha$."
   ]
  },
  {
   "attachments": {},
   "cell_type": "markdown",
   "id": "e3b806ae",
   "metadata": {},
   "source": [
    "<h3 align=\"center\"> <font color='blue'>Question T4</font></h3> <a class=\"anchor\" id=\"T4\"></a>"
   ]
  },
  {
   "attachments": {},
   "cell_type": "markdown",
   "id": "d910a507",
   "metadata": {},
   "source": [
    "<div class=\"alert alert-block alert-info\">\n",
    "\n",
    "Supposons que l'<i>HHUS</i> est vérifiée. Soit $I$ une v.a. sur $[\\![0,n-1]\\!]$. Quelle est l'espérance du nombre de comparaisons qui devront être faîtes par l'algorithme de <b>S2</b> qui teste si $D_I$ est présente dans la table $H$ ?\n",
    "\n",
    "</div>"
   ]
  },
  {
   "attachments": {},
   "cell_type": "markdown",
   "id": "636b6b6f",
   "metadata": {},
   "source": [
    "Soit $C_{D_I}$ le nombre de comparaisons de données qu'on veut calculer. \n",
    "\n",
    "On sait que $\\forall 0 \\leq i \\leq n-1$, le nombre de comparaisons $C_{D_i}$ pour trouver ${D_i}$ dans la table d'hachage est égal au nombre de données qui ont été insérées dans $h(D_i)$ avant $D_i$ plus 1.\n",
    "\n",
    "Donc,\n",
    "\n",
    "$$ C_{D_i} = 1 + \\sum_{j=0}^{j=i-1} \\mathfrak{1}_{h(D_j) = h(D_i)} \\implies \\mathbb{E}(C_{D_i}) = 1 + \\frac{i}{m}$$\n",
    "\n",
    "On remarque que \n",
    "\n",
    "$$C_{D_I} = \\sum_{i=0}^{n-1} \\mathfrak{1}_{I = i} C_{D_i}$$\n",
    "\n",
    "Donc,\n",
    "$$ \\begin{align}\n",
    "\\mathbb{E}(C_{D_I}) &= \\sum_{i=0}^{n-1} \\mathbb{P}(I = i) \\mathbb{E}(C_{D_i})\\\\\n",
    "&= \\sum_{i=0}^{n-1} \\frac{1}{n} \\mathbb{E}(C_{D_i})\\\\\n",
    "&= \\frac{1}{n} \\sum_{i=0}^{n-1}\\left(1 + \\frac{i}{m}\\right)\\\\\n",
    "&= \\frac{1}{n} \\left( n + \\frac{n(n-1)}{2m} \\right)\\\\\n",
    "&= 1 + \\frac{n-1}{2m}\\\\\n",
    "&= 1 + \\frac{\\alpha}{2} - \\frac{1}{2m}\n",
    "\\end{align}$$\n",
    "\n",
    "On conclue $\\mathbb{E}(C_{D_I}) = 1 + \\frac{\\alpha}{2} - \\frac{1}{2m}$."
   ]
  },
  {
   "attachments": {},
   "cell_type": "markdown",
   "id": "f38e9231",
   "metadata": {},
   "source": [
    "<h3 align=\"center\"> <font color='blue'>Question T5</font></h3> <a class=\"anchor\" id=\"T5\"></a>"
   ]
  },
  {
   "attachments": {},
   "cell_type": "markdown",
   "id": "447ecf64",
   "metadata": {},
   "source": [
    "<div class=\"alert alert-block alert-info\">\n",
    "\n",
    "Soit $d \\in \\mathcal{D}$ différente des données $d_0, ..., d_{n-1}$. Montrer que l'espérance du nombre de comparaisons qui devront être faîtes par l'algorithme qui teste si $d$ est présente dans la table $H$ est inférieure au facteur de remplissage $\\alpha = n/m$.\n",
    "\n",
    "</div>"
   ]
  },
  {
   "attachments": {},
   "cell_type": "markdown",
   "id": "9f9c9e30",
   "metadata": {},
   "source": [
    "On remarque que $\\forall d \\not= d'$ on a\n",
    "$$\\mathbb{P}(h_I(d) = h_I(d')) = \\frac{|\\{ 0 \\leq j \\leq q-1 : h_j(d) = h_j(d') \\}|}{q} < \\frac{1}{m}$$\n",
    "\n",
    "Soit $C_d$ le nombre de comparaisons qu'on veut calculer. $C_d$ c'est égal au nombre de données dans l'alvéole $h_I(d)$\n",
    "\n",
    "$$C_d = N_{h_I(d)} = \\sum_{i=0}^{n-1} \\mathfrak{1}_{h_I(d_i) = h_I(d)}$$\n",
    "\n",
    "Donc $$ \\mathbb{E}(C_d) =  \\sum_{i=0}^{n-1} \\mathbb{P}(h_I(d_i) = h_I(d)) < \\frac{n}{m} \\quad \\text{car $\\forall i, d_i \\not = d$}$$.\n",
    "\n",
    "On conclue $\\mathbb{E}(C_d) < \\alpha$."
   ]
  },
  {
   "attachments": {},
   "cell_type": "markdown",
   "id": "e821f8a0",
   "metadata": {},
   "source": [
    "<h3 align=\"center\"> <font color='blue'>Question T6</font></h3> <a class=\"anchor\" id=\"T6\"></a>"
   ]
  },
  {
   "attachments": {},
   "cell_type": "markdown",
   "id": "cf89c4dd",
   "metadata": {},
   "source": [
    "<div class=\"alert alert-block alert-info\">\n",
    "\n",
    "Soit $i \\in [\\![0,n-1]\\!]$. Montrer que l'espérance du nombre de comparaisons qui devront être faîtes par l'algorithme qui teste si $d_i$ est présente dans la table $H$ est inférieure à $1 + \\alpha$.\n",
    "\n",
    "</div>"
   ]
  },
  {
   "attachments": {},
   "cell_type": "markdown",
   "id": "6c220d1a",
   "metadata": {},
   "source": [
    "Soit $C_{d_i}$ le nombre de comparaisons qu'on veut calculer.\n",
    "\n",
    "Analogiquement à la question $\\textbf{T4}$, on a \n",
    "\n",
    "$$ C_{d_i} = 1 + \\sum_{j=0}^{j=i-1} \\mathfrak{1}_{h_I(d_j) = h_I(d_i)}$$\n",
    "\n",
    "On a\n",
    "\n",
    "$$\\mathbb{E}(C_{d_i}) = 1 + \\sum_{j=0}^{j=i-1} \\mathbb{P}(h_I(d_j) = h_I(d_i)) < 1 + \\frac{i}{m} < 1 + \\frac{n}{m} = 1 + \\alpha$$\n",
    "\n",
    "On conclue $ \\mathbb{E}(C_{d_i}) < 1 + \\alpha $."
   ]
  },
  {
   "attachments": {},
   "cell_type": "markdown",
   "id": "dbeb6743",
   "metadata": {},
   "source": [
    "<h3 align=\"center\"> <font color='blue'>Question T7</font></h3> <a class=\"anchor\" id=\"T7\"></a>"
   ]
  },
  {
   "attachments": {},
   "cell_type": "markdown",
   "id": "a0553b34",
   "metadata": {},
   "source": [
    "<div class=\"alert alert-block alert-info\">\n",
    "\n",
    "Soient $l \\in \\mathbb{N}^*$, $p$ un nombre entier et $\\mathcal{D} = (\\mathbb{Z}_p)^l$. Pour $a \\in \\mathbb{Z}_p$, soit \n",
    "\n",
    "$$ h_a : d = (d_0, ..., d_{l-1}) \\in \\mathcal{D} \\mapsto \\sum_{j=0}^{l-1} d_ja^j \\in \\mathbb{Z}_p.$$\n",
    "\n",
    "Étant donné deux éléments distincts $b,c$ de $\\mathcal{D}$, montrer qu'il y a au plus $l-1$ éléments $a \\in \\mathbb{Z}_p$ tels que $h_a(b) = h_a(c)$.\n",
    "\n",
    "</div>"
   ]
  },
  {
   "attachments": {},
   "cell_type": "markdown",
   "id": "cf42e6cc",
   "metadata": {},
   "source": [
    "Soient $b = (b_0, ..., b_{l-1})$ et $c = (c_0, ..., c_{l-1})$.\n",
    "\n",
    "Supposons $h(b) = h(c) \\iff \\sum_{j=0}^{l-1} (b_j - c_j)a^j \\equiv 0 \\mod p$.\n",
    "\n",
    "On remarque que $\\sum_{j=0}^{l-1} (b_j - c_j)a^j$ est un polynome de degré au plus $l-1$ donc on a au plus $l-1$ racines."
   ]
  },
  {
   "attachments": {},
   "cell_type": "markdown",
   "id": "47f62357",
   "metadata": {},
   "source": [
    "<h3 align=\"center\"> <font color='blue'>Question T8</font></h3> <a class=\"anchor\" id=\"T8\"></a>"
   ]
  },
  {
   "attachments": {},
   "cell_type": "markdown",
   "id": "687466aa",
   "metadata": {},
   "source": [
    "<div class=\"alert alert-block alert-info\">\n",
    "\n",
    "Soient $p$ un nombre premier et $\\mathcal{D} = (\\mathbb{Z_p})^2$. Donner un entier $m$ et une collection de fonctions de hachage universelle.\n",
    "\n",
    "</div>"
   ]
  },
  {
   "attachments": {},
   "cell_type": "markdown",
   "id": "2a2580ef",
   "metadata": {},
   "source": [
    "Posons $m = 2$, $q = 3$ et les fonctions d'hachage\n",
    "\n",
    "$$ \\forall 0 \\leq a \\leq 2 \\quad h_a : (d_0, d_1) \\mapsto d_0 + ad_1$$\n",
    "\n",
    "Par $\\textbf{T7}$, $\\forall b,c \\in (\\mathbb{Z_p})^2$ distinctes on sait qu'il y a au plus $1 < \\frac{3}{2}$ fonction $h_a$ tel que $h_a(b) = h_a(c)$."
   ]
  },
  {
   "attachments": {},
   "cell_type": "markdown",
   "id": "657edad6",
   "metadata": {},
   "source": [
    "<h3 align=\"center\"> <font color='blue'>Question S5</font></h3> <a class=\"anchor\" id=\"S5\"></a>"
   ]
  },
  {
   "attachments": {},
   "cell_type": "markdown",
   "id": "b315f3b4",
   "metadata": {},
   "source": [
    "<div class=\"alert alert-block alert-info\">\n",
    "\n",
    "Écrire un programme qui, étant donné une <i>List</i> d'éléments de $(\\mathbb{Z}_{11})^2$, construit une table de hachage par une méthode de hachage universelle. Utiliser votre programme pour construire la table contenant les données suivantes\n",
    "\n",
    "$$ \\texttt{dS5 = [[5,8], [0,0], [3,1], [10,5], [6,2], [1,5]]} $$\n",
    "\n",
    "</div>"
   ]
  },
  {
   "cell_type": "code",
   "execution_count": 395,
   "id": "86738d5b",
   "metadata": {},
   "outputs": [
    {
     "name": "stdout",
     "output_type": "stream",
     "text": [
      "[[[5, 8], [0, 0], [10, 5], [6, 2]], [[3, 1], [1, 5]]]\n"
     ]
    }
   ],
   "source": [
    "#m\n",
    "nombreAlveolesS5 = 2\n",
    "\n",
    "#Data\n",
    "dS5 = [[5,8],[0,0],[3,1],[10,5],[6,2],[1,5]]\n",
    "\n",
    "#Redefinir fonction h\n",
    "hS5 = lambda d : ((d[0] + npr.choice(3)*d[1])%11)%nombreAlveolesS5\n",
    "\n",
    "tableHachageS5 = construirTableHachage(dS5, hS5, nombreAlveolesS5)\n",
    "print(tableHachageS5)\n"
   ]
  },
  {
   "attachments": {},
   "cell_type": "markdown",
   "id": "712c951b",
   "metadata": {},
   "source": [
    "Maintenant, on construi un histogramme pour régarder la taille des deux alvéoles."
   ]
  },
  {
   "cell_type": "code",
   "execution_count": 396,
   "id": "09f56b86",
   "metadata": {},
   "outputs": [
    {
     "data": {
      "text/plain": [
       "<matplotlib.legend.Legend at 0x7f281a939460>"
      ]
     },
     "execution_count": 396,
     "metadata": {},
     "output_type": "execute_result"
    },
    {
     "data": {
      "image/png": "[encoded data removed]",
      "text/plain": [
       "<Figure size 1008x432 with 1 Axes>"
      ]
     },
     "metadata": {
      "needs_background": "light"
     },
     "output_type": "display_data"
    }
   ],
   "source": [
    "tailleAlveoles = [len(tableHachageS5[i]) for i in range(nombreAlveolesS5)]\n",
    "\n",
    "x = range(nombreAlveolesS5)#répresente chaque alvéole(axe x)\n",
    "y = tailleAlveoles#répresente la taille de chaque alvéole(axe y)\n",
    "\n",
    "plt.figure(figsize=(14,6))\n",
    "plt.bar(x, y, color='blue', label = 'Taille des alvéoles')\n",
    "plt.xlabel(\"Alvéoles\")\n",
    "plt.ylabel(\"Taille\")\n",
    "plt.legend()"
   ]
  },
  {
   "attachments": {},
   "cell_type": "markdown",
   "id": "53754b25",
   "metadata": {},
   "source": [
    "<h3 align=\"center\"> <font color='blue'>Question T9</font></h3> <a class=\"anchor\" id=\"T9\"></a>"
   ]
  },
  {
   "attachments": {},
   "cell_type": "markdown",
   "id": "0014a8bb",
   "metadata": {},
   "source": [
    "<div class=\"alert alert-block alert-info\">\n",
    "\n",
    "Supposons $m \\geq n^2$. Montrer que l'espérance du nombre de collisions $X$ dans la table T est strictement inférieure à $1/2$. En déduire que la probabilité qu'il n'y ait aucune collision est strictement supérieure à $1/2$.\n",
    "\n",
    "</div>"
   ]
  },
  {
   "attachments": {},
   "cell_type": "markdown",
   "id": "4f5d2ea7",
   "metadata": {},
   "source": [
    "Par définition,\n",
    "\n",
    "$$X = |\\mathcal{C}| = \\sum_{\\{ k,l \\} \\subseteq [\\![0,n-1]\\!]} \\mathfrak{1}_{\\{ k,l\\} \\in \\mathcal{C}}$$\n",
    "\n",
    "Donc,\n",
    "\n",
    "$$\\begin{align}\n",
    "\\mathbb{E}(X) &= \\sum_{\\{ k,l \\} \\subseteq [\\![0,n-1]\\!]} \\mathbb{P}(\\{ k,l\\} \\in \\mathcal{C})\\\\\n",
    "& = \\sum_{\\{ k,l \\} \\subseteq [\\![0,n-1]\\!]} \\mathbb{P}(h_I(d_k) = h_I(d_l))\\\\\n",
    "& < \\sum_{\\{ k,l \\} \\subseteq [\\![0,n-1]\\!]} \\frac{1}{m}\\\\\n",
    "& = \\frac{n(n-1)}{2} \\cdot \\frac{1}{m}\\\\\n",
    "& \\leq \\frac{n(n-1)}{2} \\cdot \\frac{1}{n^2}\\\\\n",
    "& < \\frac{1}{2}\n",
    "\\end{align}$$\n",
    "\n",
    "Donc, $\\mathbb{E}(X) < \\frac{1}{2}$.\n",
    "\n",
    "Alors, on veut calculer la probabilité qu'il n'y ait aucune collision $\\mathbb{P}(X = 0)$.\n",
    "\n",
    "$$ X = 0 \\iff \\forall \\{ k,l \\} \\subseteq [\\![0,n-1]\\!] \\quad \\mathfrak{1}_{\\{ k,l\\} \\in \\mathcal{C}} = 0$$\n",
    "\n",
    "Donc, \n",
    "\n",
    "$$\\begin{align}\n",
    "\\mathbb{P}(X = 0) &= \\prod_{\\{ k,l \\} \\subseteq [\\![0,n-1]\\!]}\\mathbb{P}(\\{ k,l\\} \\not\\in \\mathcal{C}) \\quad \\text{par indépendace}\\\\\n",
    "& = \\prod_{\\{ k,l \\} \\subseteq [\\![0,n-1]\\!]} \\mathbb{P}(h_I(d_k) \\not= h_I(d_l))\\\\\n",
    "& > \\prod_{\\{ k,l \\} \\subseteq [\\![0,n-1]\\!]} \\left(1 - \\frac{1}{m}\\right)\\\\\n",
    "& = \\left( 1 - \\frac{1}{m} \\right)^{\\frac{n(n-1)}{2}}\\\\\n",
    "& > 1 - \\frac{1}{m}\\cdot \\frac{n(n-1)}{2} \\quad \\text{par l'inégalité de Bernoulli}\\\\\n",
    "& \\geq 1 -  \\frac{n(n-1)}{2n^2}\\\\\n",
    "& > 1 - \\frac{1}{2} = \\frac{1}{2}\n",
    "\\end{align}$$\n",
    "\n",
    "Donc, $\\mathbb{P}(X=0) = \\frac{1}{2}$."
   ]
  },
  {
   "attachments": {},
   "cell_type": "markdown",
   "id": "85443c61",
   "metadata": {},
   "source": [
    "<h3 align=\"center\"> <font color='blue'>Question T10</font></h3> <a class=\"anchor\" id=\"T10\"></a>"
   ]
  },
  {
   "attachments": {},
   "cell_type": "markdown",
   "id": "153db854",
   "metadata": {},
   "source": [
    "<div class=\"alert alert-block alert-info\">\n",
    "\n",
    "Si $m \\geq n^2$, étant donné $n$ données $d_0, ..., d_{n-1}$, on cherche une fonction de hachage $h$ parmi $h_0, ..., h_{q-1}$ qui n'a aucune collision.\n",
    "\n",
    "Pour ça, on en choisit une au hasard (uniformément) parmi les fonctions $h_0, ..., h_{q-1}$ jusqu'à en trouver une sans collision (si la fonction choisie a une collision, il faut en rechoisir une aléatoirement indépendamment des tirages précédents).\n",
    "\n",
    "Donner la loi du nombre de tirages que vous devrez faire avant de trouver une fonction de hachage sans collision.\n",
    "\n",
    "Montrer que la probabilité que le nombre de tirages soit strictement supérieur à $k$ est inférieure à $2^{-k}$.\n",
    "\n",
    "</div>"
   ]
  },
  {
   "attachments": {},
   "cell_type": "markdown",
   "id": "0e4d568d",
   "metadata": {},
   "source": [
    "Soit $Y$ le nombre de tirages qu'on veut calculer.\n",
    "\n",
    "Supposons qu'on a fait un tirage $h_i$. Si $X=0$ on a trouvé une fonction de hachage sans collision, par contre si $X \\geq 1$ on doit faire un autre tirage.\n",
    "\n",
    "Donc,\n",
    "\n",
    "$$ \\forall k \\in \\mathbb{N}^* \\quad \\mathbb{P}(Y = k) = \\mathbb{P}(X \\geq 1)^{k-1}(1 - \\mathbb{P}(X \\geq 1)) $$\n",
    "\n",
    "Donc, $Y$ suit une loi geométrique de paramètre $\\mathbb{P}(X \\geq 1)$.\n",
    "\n",
    "Pour calculer la probabilité que $Y$ soit strictement supérieur à $k$, on utilise la fonction de répartition $$\\mathbb{P}(Y \\leq k) = 1 - \\mathbb{P}(X \\geq 1)^k$$\n",
    "\n",
    "Donc,\n",
    "\n",
    "$$\\begin{align}\n",
    "\\mathbb{P}(Y > k) &= 1 - \\mathbb{P}(Y \\leq k) \\\\\n",
    "&= \\mathbb{P}(X \\geq 1)^k\\\\\n",
    "&= (1 - \\mathbb{P}(X = 0))^k\\\\\n",
    "&< \\left( \\frac{1}{2} \\right)^k = 2^{-k}\n",
    "\\end{align}$$\n",
    "\n"
   ]
  },
  {
   "attachments": {},
   "cell_type": "markdown",
   "id": "2deb7f9e",
   "metadata": {},
   "source": [
    "<h3 align=\"center\"> <font color='blue'>Question S6</font></h3> <a class=\"anchor\" id=\"S6\"></a>"
   ]
  },
  {
   "attachments": {},
   "cell_type": "markdown",
   "id": "f28740bc",
   "metadata": {},
   "source": [
    "<div class=\"alert alert-block alert-info\">\n",
    "\n",
    "En déduire un programme qui, étant donné une List de $n \\geq 14$ éléments de $(\\mathbb{Z}_{211})^2$, construit une table de hachage à $m = 211$ alvéoles sans aucune collision.\n",
    "\n",
    "Utiliser votre programme pour construire une table sans collision contenant les données suivantes\n",
    "\n",
    "$$ \\texttt{dS6 = [[5,8], [0,0], [3,1], [10,5], [6,2], [1,5], [4,2], [5,7], [3,5], [6,9], [0,2]]} $$\n",
    "\n",
    "</div>"
   ]
  },
  {
   "cell_type": "code",
   "execution_count": 397,
   "id": "7f1921ae",
   "metadata": {},
   "outputs": [
    {
     "name": "stdout",
     "output_type": "stream",
     "text": [
      "[[[0, 0]], [], [], [], [], [], [], [], [], [], [], [], [], [], [], [], [], [], [], [], [], [], [], [], [], [], [], [], [], [], [], [], [], [], [], [], [], [], [], [], [], [], [], [], [], [], [], [], [[6, 9]], [], [], [], [], [], [], [], [], [], [], [], [], [], [], [], [], [], [], [], [], [], [], [], [], [], [], [], [], [], [[3, 1]], [], [], [], [], [], [], [], [], [], [], [], [], [], [], [], [], [], [], [], [], [], [], [], [], [], [], [], [], [], [[5, 7]], [], [], [], [], [], [], [], [], [], [], [], [], [], [], [], [], [], [], [], [], [], [], [], [], [], [], [], [], [], [], [], [], [], [], [], [], [], [], [], [], [], [[0, 2]], [], [], [], [[4, 2]], [], [[6, 2]], [], [], [], [], [], [], [], [], [[1, 5]], [], [[3, 5]], [], [], [], [], [], [], [[10, 5]], [], [], [], [], [], [], [], [], [[5, 8]], [], [], [], [], [], [], [], [], [], [], [], [], [], [], [], [], [], [], [], [], [], [], [], [], [], [], []]\n"
     ]
    }
   ],
   "source": [
    "#Data\n",
    "dS6 = [[5,8],[0,0],[3,1],[10,5],[6,2],[1,5],[4,2],[5,7],[3,5],[6,9],[0,2]]\n",
    "nombreAlveoles = 211\n",
    "\n",
    "#Tester si chaque avéoles est non cllision\n",
    "def isCollision (tableHachage):\n",
    "    for i in range(len(tableHachage)):\n",
    "        if len(tableHachage[i]) > 1: #on a trouve collision\n",
    "            return True\n",
    "    return False\n",
    "        \n",
    "#Construit table sans collision\n",
    "def construirSansCollision(donnees, nombreAlveoles):\n",
    "    existeCollision = True\n",
    "    tableHachage = []\n",
    "    while(existeCollision):\n",
    "        a = npr.choice(nombreAlveoles)\n",
    "        fonctionHachage = lambda d : (d[0] + a*d[1])%nombreAlveoles\n",
    "        tableHachage = construirTableHachage(donnees, fonctionHachage, nombreAlveoles)\n",
    "        existeCollision = isCollision(tableHachage)\n",
    "    return tableHachage\n",
    "\n",
    "tableHachageS6 = construirSansCollision(dS6, nombreAlveoles)\n",
    "print(tableHachageS6)"
   ]
  },
  {
   "attachments": {},
   "cell_type": "markdown",
   "id": "ec966cff",
   "metadata": {},
   "source": [
    "Maintenant, on construi un histogramme pour vérifier que la taille des alvéoles est bien $0$ ou $1$."
   ]
  },
  {
   "cell_type": "code",
   "execution_count": 398,
   "id": "3f83d092",
   "metadata": {},
   "outputs": [
    {
     "data": {
      "text/plain": [
       "<matplotlib.legend.Legend at 0x7f281a7c8070>"
      ]
     },
     "execution_count": 398,
     "metadata": {},
     "output_type": "execute_result"
    },
    {
     "data": {
      "image/png": "[encoded data removed]",
      "text/plain": [
       "<Figure size 1008x432 with 1 Axes>"
      ]
     },
     "metadata": {
      "needs_background": "light"
     },
     "output_type": "display_data"
    }
   ],
   "source": [
    "tailleAlveoles = [len(tableHachageS6[i]) for i in range(nombreAlveoles)]\n",
    "\n",
    "x = range(nombreAlveoles)#répresente chaque alvéole(axe x)\n",
    "y = tailleAlveoles#répresente la taille de chaque alvéole(axe y)\n",
    "\n",
    "plt.figure(figsize=(14,6))\n",
    "plt.bar(x, y, color='blue', label = 'Taille des alvéoles')\n",
    "plt.xlabel(\"Alvéoles\")\n",
    "plt.ylabel(\"Taille\")\n",
    "plt.legend()"
   ]
  },
  {
   "attachments": {},
   "cell_type": "markdown",
   "id": "109643da",
   "metadata": {},
   "source": [
    "<h3 align=\"center\"> <font color='blue'>Question S7</font></h3> <a class=\"anchor\" id=\"S7\"></a>"
   ]
  },
  {
   "attachments": {},
   "cell_type": "markdown",
   "id": "fe612ec3",
   "metadata": {},
   "source": [
    "<div class=\"alert alert-block alert-info\">\n",
    "\n",
    "Écrire un programme qui, étant donné un entier $m$, une <i>List</i> de données et une fonction de hachage à valeurs dans $[\\![0,m-1]\\!]$, renvoit une <i>List</i> $l$ de taille $m$ telle que $l[j]$ est le nombre de données hachées dans l'alvéole $j$.\n",
    "\n",
    "Afficher sous la forme d'un histograme la taille des alveoles de la table construite à <b>S5</b>.\n",
    "\n",
    "</div>"
   ]
  },
  {
   "cell_type": "code",
   "execution_count": 399,
   "id": "506df62a",
   "metadata": {},
   "outputs": [
    {
     "data": {
      "text/plain": [
       "<matplotlib.legend.Legend at 0x7f281a63fa90>"
      ]
     },
     "execution_count": 399,
     "metadata": {},
     "output_type": "execute_result"
    },
    {
     "data": {
      "image/png": "[encoded data removed]",
      "text/plain": [
       "<Figure size 1008x432 with 1 Axes>"
      ]
     },
     "metadata": {
      "needs_background": "light"
     },
     "output_type": "display_data"
    }
   ],
   "source": [
    "def calculerTailleAlveoles(donnees,fonctionHachage,nombreAlveoles):\n",
    "    l  = [0]*nombreAlveoles\n",
    "    for donnee in donnees:\n",
    "        alveole = fonctionHachage(donnee)\n",
    "        l[alveole]+=1\n",
    "    return l\n",
    "\n",
    "tailleAlveoles = calculerTailleAlveoles(dS5, hS5, nombreAlveolesS5)\n",
    "\n",
    "x = range(nombreAlveolesS5)#répresente chaque alvéole(axe x)\n",
    "y = tailleAlveoles#répresente la taille de chaque alvéole(axe y)\n",
    "\n",
    "plt.figure(figsize=(14,6))\n",
    "plt.bar(x, y, color='blue', label = 'Taille des alvéoles')\n",
    "plt.xlabel(\"Alvéoles\")\n",
    "plt.ylabel(\"Taille\")\n",
    "plt.legend()\n"
   ]
  },
  {
   "attachments": {},
   "cell_type": "markdown",
   "id": "702b9c91",
   "metadata": {},
   "source": [
    "<h3 align=\"center\"> <font color='blue'>Question T11</font></h3> <a class=\"anchor\" id=\"T11\"></a>"
   ]
  },
  {
   "attachments": {},
   "cell_type": "markdown",
   "id": "4c0d68ac",
   "metadata": {},
   "source": [
    "<div class=\"alert alert-block alert-info\">\n",
    "\n",
    "En supposant que $m \\geq n$, montrer que l'espérance de la taille totale de la table construite par hachage parfait est strictement inférieure à $2n$.\n",
    "\n",
    "</div>"
   ]
  },
  {
   "attachments": {},
   "cell_type": "markdown",
   "id": "7b5d7115",
   "metadata": {},
   "source": [
    "Soient $Z$ la taille totale de la table de hachage et $$S_j = \\{ (x,y) : (x,y) \\text{ est une collision dans la table de l'alvéole } j \\}.$$\n",
    "\n",
    "Par définition, on peut compter $|S_j|$ de deux façons.\n",
    "\n",
    "On a $|S_j| = 2X_j$ parce qu'on compte chaque collision deux fois et $|S_j| = N_j(N_j - 1)$.\n",
    "\n",
    "Donc $N_j^2 = N_j + 2X_j$ où $X_j$. Alors, on a\n",
    "\n",
    "$$ Z = \\sum_{j=0}^{m-1} N_j^2 = \\sum_{j=0}^{m-1} N_j + 2X_j \\implies \\mathbb{E}(Z) = \\sum_{j=0}^{m-1} \\mathbb{E}(N_j) + 2\\mathbb{E}(X_j) $$\n",
    "\n",
    "On sait que $\\mathbb{E}(N_j) = \\frac{n}{m}$ et $\\mathbb{E}(X_j) < \\frac{1}{2}$. Donc,\n",
    "\n",
    "$$\\begin{align}\n",
    "\\mathbb{E}(Z) &<  \\sum_{j=0}^{m-1} \\frac{n}{m} + 1\\\\\n",
    "&= n + m \\leq 2n\n",
    "\\end{align}$$\n",
    "\n",
    "On conclue $\\mathbb{E}(Z) < 2n$."
   ]
  },
  {
   "attachments": {},
   "cell_type": "markdown",
   "id": "bc29c987",
   "metadata": {},
   "source": [
    "<h3 align=\"center\"> <font color='blue'>Question T12</font></h3> <a class=\"anchor\" id=\"T12\"></a>"
   ]
  },
  {
   "attachments": {},
   "cell_type": "markdown",
   "id": "1ba59201",
   "metadata": {},
   "source": [
    "<div class=\"alert alert-block alert-info\">\n",
    "\n",
    "En supposant que $m \\geq n$, montrer que, pour tout $0 < \\epsilon < 1$, il existe un entier $t(\\epsilon)$ tel que, avec probabilité supérieure à $1 - \\epsilon$, la taille totale de la table de hachage ne dépasse pas $nt(\\epsilon)$.\n",
    "\n",
    "</div>"
   ]
  },
  {
   "attachments": {},
   "cell_type": "markdown",
   "id": "2a239504",
   "metadata": {},
   "source": [
    "Soit $\\epsilon \\in ]0, 1[$. Posons $$t(\\epsilon) = \\frac{2}{1 - \\epsilon}$$.\n",
    "\n",
    "Par l'inégalité de Markov,\n",
    "$$\\begin{align}\n",
    "\\mathbb{P}(Z \\geq nt(\\epsilon)) &\\leq \\frac{\\mathbb{E}(Z)}{nt(\\epsilon)}\\\\\n",
    "&\\leq \\frac{2n}{nt(\\epsilon)}\\\\\n",
    "&= \\frac{2}{t(\\epsilon)} = 1 - \\epsilon\n",
    "\\end{align}$$\n",
    "\n",
    "Donc $\\mathbb{P}(Z < nt(\\epsilon)) = 1 - \\mathbb{P}(Z \\geq nt(\\epsilon)) \\geq 1 - \\epsilon$."
   ]
  },
  {
   "attachments": {},
   "cell_type": "markdown",
   "id": "63e1402f",
   "metadata": {},
   "source": [
    "<h3 align=\"center\"> <font color='blue'>Question S8</font></h3> <a class=\"anchor\" id=\"S8\"></a>"
   ]
  },
  {
   "attachments": {},
   "cell_type": "markdown",
   "id": "af862ccc",
   "metadata": {},
   "source": [
    "<div class=\"alert alert-block alert-info\">\n",
    "\n",
    "Donner une valeur approchée de l'espérance de la taille totale de la table de hachage à $m=11$ alvéoles construite par la méthode de hachage parfait via la liste de données\n",
    "\n",
    "$$ \\texttt{1Ex = [[5,8], [0,0], [3,1], [10,5], [6,2], [1,5], [4,7], [2,2], [10,7], [5,4]]}. $$\n",
    "\n",
    "On garantira que l'erreur commise est inférieure à $4$, avec probabilité $0.5$.\n",
    "\n",
    "</div>"
   ]
  },
  {
   "attachments": {},
   "cell_type": "markdown",
   "id": "790c2652",
   "metadata": {},
   "source": [
    "Soit $Z_1, ..., Z_x$ des réalisations de $Z = \\sum_{j=0}^{m-1} N_j^2$.\n",
    "\n",
    "Par la loi des grandes nombres $$ \\frac{Z_1 + ... + Z_x}{x} \\to \\mathbb{E}(Z) $$."
   ]
  },
  {
   "cell_type": "code",
   "execution_count": 400,
   "id": "15edd6d3",
   "metadata": {},
   "outputs": [
    {
     "name": "stdout",
     "output_type": "stream",
     "text": [
      "17.6344\n"
     ]
    }
   ],
   "source": [
    "nombreRealisations = 10000\n",
    "realisations = [0]*nombreRealisations\n",
    "\n",
    "donnees = [[5,8], [0,0], [3,1], [10,5], [6,2], [1,5], [4,7], [2,2], [10,7], [5,4]]\n",
    "nombreAlveoles = 11\n",
    "\n",
    "for i in range(nombreRealisations):\n",
    "    a = npr.choice(nombreAlveoles)\n",
    "    fonctionHachage = lambda d : (d[0] + d[1]*a)%nombreAlveoles\n",
    "    tailleAlveoles = calculerTailleAlveoles(donnees, fonctionHachage, nombreAlveoles)    \n",
    "    for j in range(nombreAlveoles):\n",
    "        realisations[i] += tailleAlveoles[j]**2\n",
    "\n",
    "esperanceTailleTotale = np.mean(realisations)\n",
    "print(esperanceTailleTotale)"
   ]
  },
  {
   "attachments": {},
   "cell_type": "markdown",
   "id": "eb4f120c",
   "metadata": {},
   "source": [
    "<h3 align=\"center\"> <font color='blue'>Question S9</font></h3> <a class=\"anchor\" id=\"S9\"></a>"
   ]
  },
  {
   "attachments": {},
   "cell_type": "markdown",
   "id": "7e0a21f4",
   "metadata": {},
   "source": [
    "<div class=\"alert alert-block alert-info\">\n",
    "\n",
    "Tracer un histogramme de la répartition empirique de la taille totale de hachage. Vous pouvez prendre un échantillon de taille 10000.\n",
    "\n",
    "</div>"
   ]
  },
  {
   "attachments": {},
   "cell_type": "markdown",
   "id": "948e3d32",
   "metadata": {},
   "source": [
    "On va reultiliser les réalisations de la question $\\textbf{S8}$."
   ]
  },
  {
   "cell_type": "code",
   "execution_count": 401,
   "id": "923732c4",
   "metadata": {},
   "outputs": [
    {
     "data": {
      "text/plain": [
       "<matplotlib.legend.Legend at 0x7f281a546940>"
      ]
     },
     "execution_count": 401,
     "metadata": {},
     "output_type": "execute_result"
    },
    {
     "data": {
      "image/png": "[encoded data removed]",
      "text/plain": [
       "<Figure size 1008x432 with 1 Axes>"
      ]
     },
     "metadata": {
      "needs_background": "light"
     },
     "output_type": "display_data"
    }
   ],
   "source": [
    "valeurs, frequence = np.unique(realisations, return_counts=True)\n",
    "\n",
    "x = valeurs#répresente chaque alvéole(axe x)\n",
    "y = frequence#répresente la taille de chaque alvéole(axe y)\n",
    "\n",
    "plt.figure(figsize=(14,6))\n",
    "plt.bar(x, y, color='blue', label = 'Taille totale de la table')\n",
    "plt.xlabel(\"Taille totale\")\n",
    "plt.ylabel(\"Nombre de réalisations\")\n",
    "plt.legend()"
   ]
  }
 ],
 "metadata": {
  "kernelspec": {
   "display_name": "Python 3 (ipykernel)",
   "language": "python",
   "name": "python3"
  },
  "language_info": {
   "codemirror_mode": {
    "name": "ipython",
    "version": 3
   },
   "file_extension": ".py",
   "mimetype": "text/x-python",
   "name": "python",
   "nbconvert_exporter": "python",
   "pygments_lexer": "ipython3",
   "version": "3.9.12"
  }
 },
 "nbformat": 4,
 "nbformat_minor": 5
}
